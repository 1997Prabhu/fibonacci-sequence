{
 "cells": [
  {
   "cell_type": "code",
   "execution_count": 4,
   "id": "3d143c08",
   "metadata": {},
   "outputs": [
    {
     "name": "stdout",
     "output_type": "stream",
     "text": [
      "enter the numbers :10\n",
      "fib Seq\n",
      "1\n",
      "2\n",
      "3\n",
      "5\n",
      "8\n",
      "13\n",
      "21\n",
      "34\n",
      "55\n"
     ]
    }
   ],
   "source": [
    "num1=int(input(\"enter the numbers :\"))\n",
    "a=1\n",
    "b=2\n",
    "count=1\n",
    "\n",
    "if num1 <=0:\n",
    "    print (\"postive integer\")\n",
    "elif num1 ==1:\n",
    "    print(a)\n",
    "else :\n",
    "   print(\"fib Seq\")\n",
    "   while count<num1:\n",
    "    print(a)\n",
    "    c=a+b\n",
    "    a=b\n",
    "    b=c\n",
    "    count+=1"
   ]
  }
 ],
 "metadata": {
  "kernelspec": {
   "display_name": "Python 3 (ipykernel)",
   "language": "python",
   "name": "python3"
  },
  "language_info": {
   "codemirror_mode": {
    "name": "ipython",
    "version": 3
   },
   "file_extension": ".py",
   "mimetype": "text/x-python",
   "name": "python",
   "nbconvert_exporter": "python",
   "pygments_lexer": "ipython3",
   "version": "3.8.0"
  }
 },
 "nbformat": 4,
 "nbformat_minor": 5
}
